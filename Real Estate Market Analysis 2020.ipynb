{
 "cells": [
  {
   "cell_type": "markdown",
   "metadata": {},
   "source": [
    "## Real Estate Market Analysis"
   ]
  },
  {
   "cell_type": "markdown",
   "metadata": {},
   "source": [
    "The data set used for this analysis was gathered from Zillow.com, and includes 1 bed, 1-2 bathroom condominium units ranging in size from 400 - 1577 square feet. All 256 observations have were sold in San Mateo, CA within the 94401 area code from July 2017 through July 2020. These residences were collected to be used as comparable sales to a 1 bed, 1 bath, 725 square foot condominium in the same area code.\n"
   ]
  },
  {
   "cell_type": "code",
   "execution_count": 26,
   "metadata": {},
   "outputs": [
    {
     "name": "stderr",
     "output_type": "stream",
     "text": [
      "Parsed with column specification:\n",
      "cols(\n",
      "  date_sold = \u001b[31mcol_character()\u001b[39m,\n",
      "  price_sold = \u001b[31mcol_character()\u001b[39m,\n",
      "  bd = \u001b[31mcol_character()\u001b[39m,\n",
      "  ba = \u001b[31mcol_character()\u001b[39m,\n",
      "  sqft = \u001b[31mcol_character()\u001b[39m,\n",
      "  address = \u001b[31mcol_character()\u001b[39m\n",
      ")\n",
      "\n"
     ]
    },
    {
     "data": {
      "text/html": [
       "<table>\n",
       "<caption>A tibble: 6 × 6</caption>\n",
       "<thead>\n",
       "\t<tr><th scope=col>date_sold</th><th scope=col>price_sold</th><th scope=col>bd</th><th scope=col>ba</th><th scope=col>sqft</th><th scope=col>address</th></tr>\n",
       "\t<tr><th scope=col>&lt;chr&gt;</th><th scope=col>&lt;chr&gt;</th><th scope=col>&lt;chr&gt;</th><th scope=col>&lt;chr&gt;</th><th scope=col>&lt;chr&gt;</th><th scope=col>&lt;chr&gt;</th></tr>\n",
       "</thead>\n",
       "<tbody>\n",
       "\t<tr><td>Sold 08/24/2020</td><td>$655,000</td><td>1 bd</td><td>1 ba</td><td>758 sqft</td><td>904 Peninsula Ave APT 304, San Mateo, CA 94401       </td></tr>\n",
       "\t<tr><td>Sold 07/09/2020</td><td>$635,000</td><td>1 bd</td><td>1 ba</td><td>693 sqft</td><td>847 N Humboldt St APT 301, San Mateo, CA 94401       </td></tr>\n",
       "\t<tr><td>Sold 07/09/2020</td><td>$615,000</td><td>1 bd</td><td>1 ba</td><td>693 sqft</td><td>815 N Humboldt St APT 401, San Mateo, CA 94401       </td></tr>\n",
       "\t<tr><td>Sold 07/02/2020</td><td>$630,000</td><td>1 bd</td><td>1 ba</td><td>693 sqft</td><td>833 N Humboldt St APT 107, San Mateo, CA 94401       </td></tr>\n",
       "\t<tr><td>Sold 06/19/2020</td><td>$640,000</td><td>1 bd</td><td>1 ba</td><td>693 sqft</td><td>847 N Humboldt St APT 201, San Mateo, CA 94401       </td></tr>\n",
       "\t<tr><td>Sold 05/29/2020</td><td>$640,000</td><td>1 bd</td><td>1 ba</td><td>663 sqft</td><td>1919 Alameda De Las Pulgas APT 1, San Mateo, CA 94403</td></tr>\n",
       "</tbody>\n",
       "</table>\n"
      ],
      "text/latex": [
       "A tibble: 6 × 6\n",
       "\\begin{tabular}{llllll}\n",
       " date\\_sold & price\\_sold & bd & ba & sqft & address\\\\\n",
       " <chr> & <chr> & <chr> & <chr> & <chr> & <chr>\\\\\n",
       "\\hline\n",
       "\t Sold 08/24/2020 & \\$655,000 & 1 bd & 1 ba & 758 sqft & 904 Peninsula Ave APT 304, San Mateo, CA 94401       \\\\\n",
       "\t Sold 07/09/2020 & \\$635,000 & 1 bd & 1 ba & 693 sqft & 847 N Humboldt St APT 301, San Mateo, CA 94401       \\\\\n",
       "\t Sold 07/09/2020 & \\$615,000 & 1 bd & 1 ba & 693 sqft & 815 N Humboldt St APT 401, San Mateo, CA 94401       \\\\\n",
       "\t Sold 07/02/2020 & \\$630,000 & 1 bd & 1 ba & 693 sqft & 833 N Humboldt St APT 107, San Mateo, CA 94401       \\\\\n",
       "\t Sold 06/19/2020 & \\$640,000 & 1 bd & 1 ba & 693 sqft & 847 N Humboldt St APT 201, San Mateo, CA 94401       \\\\\n",
       "\t Sold 05/29/2020 & \\$640,000 & 1 bd & 1 ba & 663 sqft & 1919 Alameda De Las Pulgas APT 1, San Mateo, CA 94403\\\\\n",
       "\\end{tabular}\n"
      ],
      "text/markdown": [
       "\n",
       "A tibble: 6 × 6\n",
       "\n",
       "| date_sold &lt;chr&gt; | price_sold &lt;chr&gt; | bd &lt;chr&gt; | ba &lt;chr&gt; | sqft &lt;chr&gt; | address &lt;chr&gt; |\n",
       "|---|---|---|---|---|---|\n",
       "| Sold 08/24/2020 | $655,000 | 1 bd | 1 ba | 758 sqft | 904 Peninsula Ave APT 304, San Mateo, CA 94401        |\n",
       "| Sold 07/09/2020 | $635,000 | 1 bd | 1 ba | 693 sqft | 847 N Humboldt St APT 301, San Mateo, CA 94401        |\n",
       "| Sold 07/09/2020 | $615,000 | 1 bd | 1 ba | 693 sqft | 815 N Humboldt St APT 401, San Mateo, CA 94401        |\n",
       "| Sold 07/02/2020 | $630,000 | 1 bd | 1 ba | 693 sqft | 833 N Humboldt St APT 107, San Mateo, CA 94401        |\n",
       "| Sold 06/19/2020 | $640,000 | 1 bd | 1 ba | 693 sqft | 847 N Humboldt St APT 201, San Mateo, CA 94401        |\n",
       "| Sold 05/29/2020 | $640,000 | 1 bd | 1 ba | 663 sqft | 1919 Alameda De Las Pulgas APT 1, San Mateo, CA 94403 |\n",
       "\n"
      ],
      "text/plain": [
       "  date_sold       price_sold bd   ba   sqft    \n",
       "1 Sold 08/24/2020 $655,000   1 bd 1 ba 758 sqft\n",
       "2 Sold 07/09/2020 $635,000   1 bd 1 ba 693 sqft\n",
       "3 Sold 07/09/2020 $615,000   1 bd 1 ba 693 sqft\n",
       "4 Sold 07/02/2020 $630,000   1 bd 1 ba 693 sqft\n",
       "5 Sold 06/19/2020 $640,000   1 bd 1 ba 693 sqft\n",
       "6 Sold 05/29/2020 $640,000   1 bd 1 ba 663 sqft\n",
       "  address                                              \n",
       "1 904 Peninsula Ave APT 304, San Mateo, CA 94401       \n",
       "2 847 N Humboldt St APT 301, San Mateo, CA 94401       \n",
       "3 815 N Humboldt St APT 401, San Mateo, CA 94401       \n",
       "4 833 N Humboldt St APT 107, San Mateo, CA 94401       \n",
       "5 847 N Humboldt St APT 201, San Mateo, CA 94401       \n",
       "6 1919 Alameda De Las Pulgas APT 1, San Mateo, CA 94403"
      ]
     },
     "metadata": {},
     "output_type": "display_data"
    }
   ],
   "source": [
    "library(tidyverse)\n",
    "library(xts)\n",
    "library(ggplot2)\n",
    "library(forecast)\n",
    "library(readr)\n",
    "data <- read_csv(\"san_mateo_condos_1.csv\")\n",
    "head(data)"
   ]
  },
  {
   "cell_type": "markdown",
   "metadata": {},
   "source": [
    "A bit of data cleaning."
   ]
  },
  {
   "cell_type": "code",
   "execution_count": 27,
   "metadata": {},
   "outputs": [],
   "source": [
    "data$date_sold <-str_remove(data$date_sold, fixed(\"Sold \"))\n",
    "data$sqft <- str_remove(data$sqft, fixed(\" sqft\"))\n",
    "data$price_sold <- str_remove(data$price_sold, fixed(\"$\"))\n",
    "data$price_sold <- str_remove(data$price_sold, \",\")\n",
    "data$price_sold <- str_remove(data$price_sold, \",\")\n",
    "data$sqft <- str_remove(data$sqft, fixed(\",\"))"
   ]
  },
  {
   "cell_type": "markdown",
   "metadata": {},
   "source": [
    "Formatting the and creating new attributes to be compatible with timeseries analysis."
   ]
  },
  {
   "cell_type": "code",
   "execution_count": 28,
   "metadata": {},
   "outputs": [],
   "source": [
    "date <- as.Date(data$date_sold, format = \"%m/%d/%Y\")\n",
    "price <- as.numeric(data$price_sold)\n",
    "size <- as.numeric(data$sqft)\n",
    "ppsqft <- price/size\n",
    "ppsqft <- round(ppsqft, digits = 2)\n",
    "num <- nrow(data) -1\n",
    "lag <- c(NA, ppsqft[1:num])\n",
    "d_ppsqft <- ppsqft - lag\n",
    "pct_change <- (d_ppsqft/ppsqft)*100"
   ]
  },
  {
   "cell_type": "markdown",
   "metadata": {},
   "source": [
    "Summary statistics for Price:\n"
   ]
  },
  {
   "cell_type": "code",
   "execution_count": 29,
   "metadata": {},
   "outputs": [
    {
     "data": {
      "text/plain": [
       "   Min. 1st Qu.  Median    Mean 3rd Qu.    Max. \n",
       " 100000  581000  635000  654945  713500 2140000 "
      ]
     },
     "metadata": {},
     "output_type": "display_data"
    }
   ],
   "source": [
    "summary(price)"
   ]
  },
  {
   "cell_type": "markdown",
   "metadata": {},
   "source": [
    "Summary statistics for square footage:"
   ]
  },
  {
   "cell_type": "code",
   "execution_count": 30,
   "metadata": {},
   "outputs": [
    {
     "data": {
      "text/plain": [
       "   Min. 1st Qu.  Median    Mean 3rd Qu.    Max. \n",
       "  400.0   693.0   770.0   809.1   894.0  1577.0 "
      ]
     },
     "metadata": {},
     "output_type": "display_data"
    }
   ],
   "source": [
    "summary(size)"
   ]
  },
  {
   "cell_type": "markdown",
   "metadata": {},
   "source": [
    "Summary statistics for price per-square-foot:"
   ]
  },
  {
   "cell_type": "code",
   "execution_count": 31,
   "metadata": {},
   "outputs": [
    {
     "data": {
      "text/plain": [
       "   Min. 1st Qu.  Median    Mean 3rd Qu.    Max. \n",
       "  129.2   743.1   831.0   824.5   897.5  2517.7 "
      ]
     },
     "metadata": {},
     "output_type": "display_data"
    }
   ],
   "source": [
    "summary(ppsqft)"
   ]
  },
  {
   "cell_type": "markdown",
   "metadata": {},
   "source": [
    "Summary statistics for Percentage Change in Price:"
   ]
  },
  {
   "cell_type": "code",
   "execution_count": 32,
   "metadata": {},
   "outputs": [
    {
     "data": {
      "text/plain": [
       "      Min.    1st Qu.     Median       Mean    3rd Qu.       Max.       NA's \n",
       "-1370.5882   -13.9670    -0.0698   -12.3135    13.6207    83.9533          1 "
      ]
     },
     "metadata": {},
     "output_type": "display_data"
    }
   ],
   "source": [
    "summary(pct_change)"
   ]
  },
  {
   "cell_type": "markdown",
   "metadata": {},
   "source": [
    "Formatting for Time Series Analysis:"
   ]
  },
  {
   "cell_type": "code",
   "execution_count": 33,
   "metadata": {},
   "outputs": [
    {
     "name": "stderr",
     "output_type": "stream",
     "text": [
      "Warning message:\n",
      "\"timezone of object (UTC) is different than current timezone ().\"\n"
     ]
    },
    {
     "data": {
      "text/plain": [
       "             [,1]\n",
       "2017-07-28 -27.36\n",
       "2017-08-30  86.73\n",
       "2017-09-28 -36.41\n",
       "2017-10-31  16.77\n",
       "2017-11-29  -1.55\n",
       "2017-12-29  -7.63"
      ]
     },
     "metadata": {},
     "output_type": "display_data"
    }
   ],
   "source": [
    "#converting price to xts\n",
    "price.xts <- as.xts(price, date)\n",
    "\n",
    "#converting to monthly average\n",
    "price.xts.mo.av <- apply.monthly(price.xts, mean)\n",
    "price.xts.mo.av <- round(price.xts.mo.av, digits = 2)\n",
    "\n",
    "#converting ppsqft to xts\n",
    "ppsqft.xts <- as.xts(ppsqft, date)\n",
    "\n",
    "#converting to montly average\n",
    "ppsqft.xts.mo.av <- apply.monthly(ppsqft.xts, mean)\n",
    "ppsqft.xts.mo.av <- round(ppsqft.xts.mo.av, digits = 2)\n",
    "\n",
    "#converting d_ppsqft to xts\n",
    "d_ppsqft.xts <- as.xts(d_ppsqft, date)\n",
    "\n",
    "#converting to monthly average\n",
    "d_ppsqft.xts.mo.av <- apply.monthly(d_ppsqft.xts, mean)\n",
    "d_ppsqft.xts.mo.av <- round(d_ppsqft.xts.mo.av, digits = 2)\n",
    "head(d_ppsqft.xts.mo.av)\n",
    "\n",
    "#converting pct_change to xts\n",
    "pct_change.xts <- as.xts(pct_change, date)\n",
    "\n",
    "#converting to monthly average\n",
    "pct_change.xts.mo.av <- apply.monthly(pct_change.xts, mean)\n",
    "pct_change.xts.mo.av <- round(pct_change.xts.mo.av, digits = 2)"
   ]
  },
  {
   "cell_type": "markdown",
   "metadata": {},
   "source": [
    "#### Monthly Average Condo Sales Price"
   ]
  },
  {
   "cell_type": "code",
   "execution_count": 34,
   "metadata": {},
   "outputs": [
    {
     "data": {
      "image/png": "[encoded data removed]",
      "text/plain": [
       "plot without title"
      ]
     },
     "metadata": {
      "image/png": {
       "height": 420,
       "width": 420
      },
      "text/plain": {
       "height": 420,
       "width": 420
      }
     },
     "output_type": "display_data"
    }
   ],
   "source": [
    "autoplot.zoo(price.xts.mo.av) + ggtitle(\"Average Monthly Condo Sales Price\") + ylab(\"Price\") + xlab(\"Time\")"
   ]
  },
  {
   "cell_type": "markdown",
   "metadata": {},
   "source": [
    "#### Monthly Average Price per-square-foot"
   ]
  },
  {
   "cell_type": "code",
   "execution_count": 35,
   "metadata": {},
   "outputs": [
    {
     "data": {
      "image/png": "[encoded data removed]",
      "text/plain": [
       "plot without title"
      ]
     },
     "metadata": {
      "image/png": {
       "height": 420,
       "width": 420
      },
      "text/plain": {
       "height": 420,
       "width": 420
      }
     },
     "output_type": "display_data"
    }
   ],
   "source": [
    "autoplot.zoo(ppsqft.xts.mo.av) + ggtitle(\"Average Monthly Price per-square-foot\") + ylab(\"Price\") + xlab(\"Time\")"
   ]
  },
  {
   "cell_type": "markdown",
   "metadata": {},
   "source": [
    "12 month Average"
   ]
  },
  {
   "cell_type": "code",
   "execution_count": 36,
   "metadata": {},
   "outputs": [
    {
     "data": {
      "text/html": [
       "812.633076923077"
      ],
      "text/latex": [
       "812.633076923077"
      ],
      "text/markdown": [
       "812.633076923077"
      ],
      "text/plain": [
       "[1] 812.6331"
      ]
     },
     "metadata": {},
     "output_type": "display_data"
    }
   ],
   "source": [
    "mean(ppsqft.xts.mo.av[24:36])"
   ]
  },
  {
   "cell_type": "markdown",
   "metadata": {},
   "source": [
    "3 month Average"
   ]
  },
  {
   "cell_type": "code",
   "execution_count": 37,
   "metadata": {},
   "outputs": [
    {
     "data": {
      "text/html": [
       "865.75"
      ],
      "text/latex": [
       "865.75"
      ],
      "text/markdown": [
       "865.75"
      ],
      "text/plain": [
       "[1] 865.75"
      ]
     },
     "metadata": {},
     "output_type": "display_data"
    }
   ],
   "source": [
    "mean(ppsqft.xts.mo.av[33:36])"
   ]
  },
  {
   "cell_type": "markdown",
   "metadata": {},
   "source": [
    "#### Change in Monthly Average per-square-foot Price"
   ]
  },
  {
   "cell_type": "code",
   "execution_count": 38,
   "metadata": {},
   "outputs": [
    {
     "name": "stderr",
     "output_type": "stream",
     "text": [
      "Warning message:\n",
      "\"Removed 1 rows containing missing values (geom_path).\"\n"
     ]
    },
    {
     "data": {
      "image/png": "[encoded data removed]",
      "text/plain": [
       "plot without title"
      ]
     },
     "metadata": {
      "image/png": {
       "height": 420,
       "width": 420
      },
      "text/plain": {
       "height": 420,
       "width": 420
      }
     },
     "output_type": "display_data"
    }
   ],
   "source": [
    "autoplot.zoo(d_ppsqft.xts.mo.av) + ggtitle(\"Change in Avg Monthly per-square-foot price\") + ylab(\"Price per-square-foot\") + xlab(\"Time\")"
   ]
  },
  {
   "cell_type": "markdown",
   "metadata": {},
   "source": [
    "12 month Average "
   ]
  },
  {
   "cell_type": "code",
   "execution_count": 39,
   "metadata": {},
   "outputs": [
    {
     "data": {
      "text/html": [
       "5.35846153846154"
      ],
      "text/latex": [
       "5.35846153846154"
      ],
      "text/markdown": [
       "5.35846153846154"
      ],
      "text/plain": [
       "[1] 5.358462"
      ]
     },
     "metadata": {},
     "output_type": "display_data"
    }
   ],
   "source": [
    "mean(d_ppsqft.xts.mo.av[23:35])"
   ]
  },
  {
   "cell_type": "markdown",
   "metadata": {},
   "source": [
    "3 month Average"
   ]
  },
  {
   "cell_type": "code",
   "execution_count": 40,
   "metadata": {},
   "outputs": [
    {
     "data": {
      "text/html": [
       "10.835"
      ],
      "text/latex": [
       "10.835"
      ],
      "text/markdown": [
       "10.835"
      ],
      "text/plain": [
       "[1] 10.835"
      ]
     },
     "metadata": {},
     "output_type": "display_data"
    }
   ],
   "source": [
    "mean(d_ppsqft.xts.mo.av[32:35])"
   ]
  },
  {
   "cell_type": "markdown",
   "metadata": {},
   "source": [
    "Percentage Change in Average Monthly per-square-foot Price\n"
   ]
  },
  {
   "cell_type": "code",
   "execution_count": 41,
   "metadata": {},
   "outputs": [
    {
     "name": "stderr",
     "output_type": "stream",
     "text": [
      "Warning message:\n",
      "\"Removed 1 rows containing missing values (geom_path).\"\n"
     ]
    },
    {
     "data": {
      "image/png": "[encoded data removed]",
      "text/plain": [
       "plot without title"
      ]
     },
     "metadata": {
      "image/png": {
       "height": 420,
       "width": 420
      },
      "text/plain": {
       "height": 420,
       "width": 420
      }
     },
     "output_type": "display_data"
    }
   ],
   "source": [
    "autoplot.zoo(pct_change.xts.mo.av) + ggtitle(\"Percentage Change in Avg Monthly per-square-foot Price\") + ylab(\"% Price\") + xlab(\"Time\")"
   ]
  },
  {
   "cell_type": "markdown",
   "metadata": {},
   "source": [
    "12 month Average"
   ]
  },
  {
   "cell_type": "code",
   "execution_count": 42,
   "metadata": {},
   "outputs": [
    {
     "data": {
      "text/html": [
       "-5.34307692307692"
      ],
      "text/latex": [
       "-5.34307692307692"
      ],
      "text/markdown": [
       "-5.34307692307692"
      ],
      "text/plain": [
       "[1] -5.343077"
      ]
     },
     "metadata": {},
     "output_type": "display_data"
    }
   ],
   "source": [
    "mean(pct_change.xts.mo.av[23:35])"
   ]
  },
  {
   "cell_type": "markdown",
   "metadata": {},
   "source": [
    "3 month Average"
   ]
  },
  {
   "cell_type": "code",
   "execution_count": 43,
   "metadata": {},
   "outputs": [
    {
     "data": {
      "text/html": [
       "-2.1"
      ],
      "text/latex": [
       "-2.1"
      ],
      "text/markdown": [
       "-2.1"
      ],
      "text/plain": [
       "[1] -2.1"
      ]
     },
     "metadata": {},
     "output_type": "display_data"
    }
   ],
   "source": [
    "mean(pct_change.xts.mo.av[32:35])"
   ]
  },
  {
   "cell_type": "markdown",
   "metadata": {},
   "source": [
    "#### Time Series forecast for Monthly Average Change in per-square-foot Price (ARIMA(0,0,1))"
   ]
  },
  {
   "cell_type": "code",
   "execution_count": 44,
   "metadata": {},
   "outputs": [
    {
     "name": "stderr",
     "output_type": "stream",
     "text": [
      "Warning message:\n",
      "\"Removed 1 rows containing missing values (geom_path).\"\n"
     ]
    },
    {
     "data": {
      "image/png": "[encoded data removed]",
      "text/plain": [
       "plot without title"
      ]
     },
     "metadata": {
      "image/png": {
       "height": 420,
       "width": 420
      },
      "text/plain": {
       "height": 420,
       "width": 420
      }
     },
     "output_type": "display_data"
    }
   ],
   "source": [
    "fit1 <- auto.arima(d_ppsqft.xts.mo.av)\n",
    "fit1 %>% forecast(h=3) %>% autoplot() + ggtitle(\"Monthly Avg Change in per-square-foot Price ARIMA (0,0,1) forecast\") + ylab(\"Dollars\") + geom_hline(yintercept = 8.5, linetype =\"dashed\", color=\"blue\") + geom_text(aes(y=20, label=\"+8.5\", x=0, color=\"red\", hjust=0.75)) + geom_vline(xintercept=2.5e+06) + geom_text(aes(x=2.5e+06, label=\"2020\", y=75, angle=90, vjust=-1))+ theme(legend.position=\"none\")"
   ]
  },
  {
   "cell_type": "markdown",
   "metadata": {},
   "source": [
    "The expected value for the 3 month forcasted price change is +$8.5. \n",
    "\n",
    "The dark blue region represents the 80% confidence interval, upper bound: +$72, lower bound: -$55. \n",
    "\n",
    "The light blue region represents the 90% confidence interval, upper bound: +$105, lower bound: -$80."
   ]
  },
  {
   "cell_type": "markdown",
   "metadata": {},
   "source": [
    "#### Time Series forecast for Monthly Average Percentage Change in per-square-foot Price (ARIMA(0,0,0))"
   ]
  },
  {
   "cell_type": "code",
   "execution_count": 45,
   "metadata": {},
   "outputs": [
    {
     "name": "stderr",
     "output_type": "stream",
     "text": [
      "Warning message:\n",
      "\"Removed 1 rows containing missing values (geom_path).\"\n"
     ]
    },
    {
     "data": {
      "image/png": "[encoded data removed]",
      "text/plain": [
       "plot without title"
      ]
     },
     "metadata": {
      "image/png": {
       "height": 420,
       "width": 420
      },
      "text/plain": {
       "height": 420,
       "width": 420
      }
     },
     "output_type": "display_data"
    }
   ],
   "source": [
    "fit2 <- auto.arima(pct_change.xts.mo.av) \n",
    "fit2 %>% forecast(h=3) %>% autoplot() + ggtitle(\"Monthly Avg % Change in per_square-foot Price ARIMA (0,0,0) forecast\") + ylab(\"Percentage\") + geom_hline(yintercept = -9, linetype =\"dashed\", color=\"red\") + geom_text(aes(y=-15, label=\"-9\", x=0, color=\"red\")) + geom_vline(xintercept=2.5e+06) + geom_text(aes(x=2.5e+06, label=\"2020\", y=-40, angle=90, vjust=-1)) + theme(legend.position=\"none\")"
   ]
  },
  {
   "cell_type": "markdown",
   "metadata": {},
   "source": [
    "The expected value for the 3 month forcasted percentage price change is -9%. \n",
    "\n",
    "The dark blue region represents the 80% confidence interval, upper bound: +16%, lower bound: -34%. \n",
    "\n",
    "The light blue region represents the 90% confidence interval, upper bound: +30%, lower bound: -46%.\n"
   ]
  }
 ],
 "metadata": {
  "kernelspec": {
   "display_name": "R",
   "language": "R",
   "name": "ir"
  },
  "language_info": {
   "codemirror_mode": "r",
   "file_extension": ".r",
   "mimetype": "text/x-r-source",
   "name": "R",
   "pygments_lexer": "r",
   "version": "3.6.1"
  }
 },
 "nbformat": 4,
 "nbformat_minor": 2
}
